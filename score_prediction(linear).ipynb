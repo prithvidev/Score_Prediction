{
  "nbformat": 4,
  "nbformat_minor": 0,
  "metadata": {
    "colab": {
      "name": "score_prediction(linear).ipynb",
      "provenance": []
    },
    "kernelspec": {
      "name": "python3",
      "display_name": "Python 3"
    }
  },
  "cells": [
    {
      "cell_type": "code",
      "metadata": {
        "id": "2U4S3qBrlhek"
      },
      "source": [
        "import numpy as np\n",
        "import pandas as pd\n",
        "import matplotlib.pyplot as plt\n"
      ],
      "execution_count": 30,
      "outputs": []
    },
    {
      "cell_type": "code",
      "metadata": {
        "colab": {
          "base_uri": "https://localhost:8080/",
          "height": 359
        },
        "id": "wtTNHVAampg6",
        "outputId": "91daf733-4253-42be-a96a-7cc84938c43f"
      },
      "source": [
        "df=pd.read_csv('student_scores - student_scores.csv')\n",
        "df.head(10)"
      ],
      "execution_count": 44,
      "outputs": [
        {
          "output_type": "execute_result",
          "data": {
            "text/html": [
              "<div>\n",
              "<style scoped>\n",
              "    .dataframe tbody tr th:only-of-type {\n",
              "        vertical-align: middle;\n",
              "    }\n",
              "\n",
              "    .dataframe tbody tr th {\n",
              "        vertical-align: top;\n",
              "    }\n",
              "\n",
              "    .dataframe thead th {\n",
              "        text-align: right;\n",
              "    }\n",
              "</style>\n",
              "<table border=\"1\" class=\"dataframe\">\n",
              "  <thead>\n",
              "    <tr style=\"text-align: right;\">\n",
              "      <th></th>\n",
              "      <th>Hours</th>\n",
              "      <th>Scores</th>\n",
              "    </tr>\n",
              "  </thead>\n",
              "  <tbody>\n",
              "    <tr>\n",
              "      <th>0</th>\n",
              "      <td>2.5</td>\n",
              "      <td>21</td>\n",
              "    </tr>\n",
              "    <tr>\n",
              "      <th>1</th>\n",
              "      <td>5.1</td>\n",
              "      <td>47</td>\n",
              "    </tr>\n",
              "    <tr>\n",
              "      <th>2</th>\n",
              "      <td>3.2</td>\n",
              "      <td>27</td>\n",
              "    </tr>\n",
              "    <tr>\n",
              "      <th>3</th>\n",
              "      <td>8.5</td>\n",
              "      <td>75</td>\n",
              "    </tr>\n",
              "    <tr>\n",
              "      <th>4</th>\n",
              "      <td>3.5</td>\n",
              "      <td>30</td>\n",
              "    </tr>\n",
              "    <tr>\n",
              "      <th>5</th>\n",
              "      <td>1.5</td>\n",
              "      <td>20</td>\n",
              "    </tr>\n",
              "    <tr>\n",
              "      <th>6</th>\n",
              "      <td>9.2</td>\n",
              "      <td>88</td>\n",
              "    </tr>\n",
              "    <tr>\n",
              "      <th>7</th>\n",
              "      <td>5.5</td>\n",
              "      <td>60</td>\n",
              "    </tr>\n",
              "    <tr>\n",
              "      <th>8</th>\n",
              "      <td>8.3</td>\n",
              "      <td>81</td>\n",
              "    </tr>\n",
              "    <tr>\n",
              "      <th>9</th>\n",
              "      <td>2.7</td>\n",
              "      <td>25</td>\n",
              "    </tr>\n",
              "  </tbody>\n",
              "</table>\n",
              "</div>"
            ],
            "text/plain": [
              "   Hours  Scores\n",
              "0    2.5      21\n",
              "1    5.1      47\n",
              "2    3.2      27\n",
              "3    8.5      75\n",
              "4    3.5      30\n",
              "5    1.5      20\n",
              "6    9.2      88\n",
              "7    5.5      60\n",
              "8    8.3      81\n",
              "9    2.7      25"
            ]
          },
          "metadata": {
            "tags": []
          },
          "execution_count": 44
        }
      ]
    },
    {
      "cell_type": "code",
      "metadata": {
        "colab": {
          "base_uri": "https://localhost:8080/"
        },
        "id": "WNT1FZh1mxLa",
        "outputId": "ff959073-f032-47ac-85b3-8d024b441828"
      },
      "source": [
        "df['Hours'].unique"
      ],
      "execution_count": 48,
      "outputs": [
        {
          "output_type": "execute_result",
          "data": {
            "text/plain": [
              "<bound method Series.unique of 0     2.5\n",
              "1     5.1\n",
              "2     3.2\n",
              "3     8.5\n",
              "4     3.5\n",
              "5     1.5\n",
              "6     9.2\n",
              "7     5.5\n",
              "8     8.3\n",
              "9     2.7\n",
              "10    7.7\n",
              "11    5.9\n",
              "12    4.5\n",
              "13    3.3\n",
              "14    1.1\n",
              "15    8.9\n",
              "16    2.5\n",
              "17    1.9\n",
              "18    6.1\n",
              "19    7.4\n",
              "20    2.7\n",
              "21    4.8\n",
              "22    3.8\n",
              "23    6.9\n",
              "24    7.8\n",
              "Name: Hours, dtype: float64>"
            ]
          },
          "metadata": {
            "tags": []
          },
          "execution_count": 48
        }
      ]
    },
    {
      "cell_type": "code",
      "metadata": {
        "colab": {
          "base_uri": "https://localhost:8080/",
          "height": 295
        },
        "id": "KH2C8PkSm3xo",
        "outputId": "dbf3e75b-bffb-45bd-be15-b6eeb9b0e307"
      },
      "source": [
        "df.plot(x='Hours', y='Scores', style='o')  \n",
        "plt.title('Hours vs Percentage')  \n",
        "plt.xlabel('Hours Studied')  \n",
        "plt.ylabel('Percentage Score')  \n",
        "plt.show()"
      ],
      "execution_count": 33,
      "outputs": [
        {
          "output_type": "display_data",
          "data": {
            "image/png": "[encoded data removed]",
            "text/plain": [
              "<Figure size 432x288 with 1 Axes>"
            ]
          },
          "metadata": {
            "tags": [],
            "needs_background": "light"
          }
        }
      ]
    },
    {
      "cell_type": "code",
      "metadata": {
        "id": "whbmQpOvnC2x"
      },
      "source": [
        "from sklearn.model_selection import train_test_split\n",
        "x=df.iloc[:,:-1].values\n",
        "y=df.iloc[:,1].values\n",
        "xtrain,xtest,ytrain,ytest=train_test_split(x,y,test_size=0.2,random_state=32)"
      ],
      "execution_count": 34,
      "outputs": []
    },
    {
      "cell_type": "code",
      "metadata": {
        "colab": {
          "base_uri": "https://localhost:8080/"
        },
        "id": "CWgAv3dboCzY",
        "outputId": "be74b512-52db-449f-fdc8-f95c24a0c2db"
      },
      "source": [
        "from sklearn.linear_model import LinearRegression\n",
        "lr=LinearRegression()\n",
        "lr.fit(xtrain,ytrain)"
      ],
      "execution_count": 35,
      "outputs": [
        {
          "output_type": "execute_result",
          "data": {
            "text/plain": [
              "LinearRegression(copy_X=True, fit_intercept=True, n_jobs=None, normalize=False)"
            ]
          },
          "metadata": {
            "tags": []
          },
          "execution_count": 35
        }
      ]
    },
    {
      "cell_type": "code",
      "metadata": {
        "colab": {
          "base_uri": "https://localhost:8080/"
        },
        "id": "c1IcD7ZnpXbX",
        "outputId": "7d87c303-3ebc-4956-adb1-cc2a2a649612"
      },
      "source": [
        "pred=lr.predict(xtest)\n",
        "from sklearn.metrics import r2_score\n",
        "r2_score(ytest,pred)"
      ],
      "execution_count": 36,
      "outputs": [
        {
          "output_type": "execute_result",
          "data": {
            "text/plain": [
              "0.9708810118577227"
            ]
          },
          "metadata": {
            "tags": []
          },
          "execution_count": 36
        }
      ]
    },
    {
      "cell_type": "code",
      "metadata": {
        "colab": {
          "base_uri": "https://localhost:8080/"
        },
        "id": "u1DSKMJMpsyp",
        "outputId": "1ed2c3e6-d23c-436c-a365-9eaa21cf09d5"
      },
      "source": [
        "print('Score of student who studied for 9.25 hours a dat', lr.predict([[9.25]]))"
      ],
      "execution_count": 41,
      "outputs": [
        {
          "output_type": "stream",
          "text": [
            "Score of student who studied for 9.25 hours a dat [91.71094169]\n"
          ],
          "name": "stdout"
        }
      ]
    },
    {
      "cell_type": "code",
      "metadata": {
        "colab": {
          "base_uri": "https://localhost:8080/",
          "height": 265
        },
        "id": "QUbVpp5Mq34f",
        "outputId": "60a92dc4-fa93-4f29-89aa-0d32e1eb6e8d"
      },
      "source": [
        "line = lr.coef_*x+lr.intercept_\n",
        "# Plotting for the test data\n",
        "plt.scatter(x, y)\n",
        "plt.plot(x, line);\n",
        "plt.show()"
      ],
      "execution_count": 38,
      "outputs": [
        {
          "output_type": "display_data",
          "data": {
            "image/png": "[encoded data removed]",
            "text/plain": [
              "<Figure size 432x288 with 1 Axes>"
            ]
          },
          "metadata": {
            "tags": [],
            "needs_background": "light"
          }
        }
      ]
    },
    {
      "cell_type": "code",
      "metadata": {
        "colab": {
          "base_uri": "https://localhost:8080/"
        },
        "id": "Bu1CfJuUsVg4",
        "outputId": "b2e69697-742c-4122-a93a-aabf7cd4c848"
      },
      "source": [
        "df.shape"
      ],
      "execution_count": 43,
      "outputs": [
        {
          "output_type": "execute_result",
          "data": {
            "text/plain": [
              "(25, 2)"
            ]
          },
          "metadata": {
            "tags": []
          },
          "execution_count": 43
        }
      ]
    }
  ]
}